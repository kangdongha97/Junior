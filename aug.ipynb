{
 "cells": [
  {
   "cell_type": "code",
   "execution_count": 1,
   "id": "0a7d0231",
   "metadata": {},
   "outputs": [],
   "source": [
    "from keras.preprocessing import image\n",
    "from keras.preprocessing.image import ImageDataGenerator\n",
    "import os\n",
    "import shutil\n",
    "import numpy as np"
   ]
  },
  {
   "cell_type": "code",
   "execution_count": 2,
   "id": "fe92e72c",
   "metadata": {},
   "outputs": [],
   "source": [
    "img_dir = 'C:/Users/KangDongha/Desktop/junior/Image'\n",
    "word = ['0', '1', '2']\n",
    "try:\n",
    "    for key in word:\n",
    "        os.makedirs(img_dir + f'\\\\{key}')\n",
    "except:\n",
    "    pass"
   ]
  },
  {
   "cell_type": "code",
   "execution_count": 3,
   "id": "6094a2c5",
   "metadata": {},
   "outputs": [],
   "source": [
    "FileList = os.listdir(img_dir)\n",
    "FileList = [x for x in FileList if 'PNG' in x] \n",
    "for file in FileList:\n",
    "    label = file.split('-')[0]\n",
    "    targetPath = img_dir + f'\\\\{label}'\n",
    "    try:\n",
    "        shutil.move(img_dir + f'\\\\{file}', targetPath + f'\\\\{file}')\n",
    "    except:\n",
    "        pass"
   ]
  },
  {
   "cell_type": "code",
   "execution_count": 4,
   "id": "3f109b5a",
   "metadata": {},
   "outputs": [],
   "source": [
    "img_dir_Desktop = 'C:/Users/KangDongha/Desktop/junior'\n",
    "word_Desktop = ['aug']\n",
    "try:\n",
    "    for key in word_Desktop:\n",
    "        os.makedirs(img_dir_Desktop + f'\\\\{key}')\n",
    "except:\n",
    "    pass"
   ]
  },
  {
   "cell_type": "code",
   "execution_count": 5,
   "id": "f411ae0b",
   "metadata": {},
   "outputs": [],
   "source": [
    "trainDataGen = ImageDataGenerator( \n",
    "                             rescale=1./255,\n",
    "                             zoom_range = [1.0,1.0],\n",
    "                             brightness_range = [1,1.0],\n",
    "                             rotation_range = False,\n",
    "                             horizontal_flip = False,\n",
    "                             vertical_flip = False,\n",
    "                             height_shift_range = 0.2,\n",
    "                             width_shift_range = 0.15)"
   ]
  },
  {
   "cell_type": "code",
   "execution_count": 6,
   "id": "788e917a",
   "metadata": {},
   "outputs": [],
   "source": [
    "save_dir = 'C:/Users/KangDongha/Desktop/junior/aug'\n",
    "try:\n",
    "    for key in word:\n",
    "        os.makedirs(save_dir + f'\\\\{key}')\n",
    "except:\n",
    "    pass"
   ]
  },
  {
   "cell_type": "code",
   "execution_count": 7,
   "id": "523afe89",
   "metadata": {},
   "outputs": [
    {
     "name": "stdout",
     "output_type": "stream",
     "text": [
      "0 end\n",
      "1 end\n",
      "2 end\n"
     ]
    }
   ],
   "source": [
    "for img_name in word:\n",
    "    img_arr = len(os.listdir(img_dir + '/' + img_name))\n",
    "    for y in range(img_arr):\n",
    "        img_key = img_name + '-' + str(y) + '.PNG'\n",
    "        img_path = os.path.join(img_dir + '/' + img_name, img_key)\n",
    "        img = image.load_img(img_path, target_size=(32,32))\n",
    "        img_tensor = image.img_to_array(img)\n",
    "        img_tensor = np.expand_dims(img_tensor, axis = 0)\n",
    "        i = 0\n",
    "        for batch in trainDataGen.flow(img_tensor, batch_size=1, save_to_dir=save_dir+ '/' + img_name, save_prefix= img_name, save_format='PNG'):\n",
    "            i += 1\n",
    "            if i>29:\n",
    "                break\n",
    "    print(img_name + ' end')"
   ]
  }
 ],
 "metadata": {
  "kernelspec": {
   "display_name": "Python 3",
   "language": "python",
   "name": "python3"
  },
  "language_info": {
   "codemirror_mode": {
    "name": "ipython",
    "version": 3
   },
   "file_extension": ".py",
   "mimetype": "text/x-python",
   "name": "python",
   "nbconvert_exporter": "python",
   "pygments_lexer": "ipython3",
   "version": "3.8.10"
  }
 },
 "nbformat": 4,
 "nbformat_minor": 5
}
