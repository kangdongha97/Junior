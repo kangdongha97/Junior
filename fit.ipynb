{
 "cells": [
  {
   "cell_type": "code",
   "execution_count": 1,
   "id": "0e8cc198",
   "metadata": {},
   "outputs": [],
   "source": [
    "img_path = \"C:/Users/KangDongha/Desktop/junior/aug\""
   ]
  },
  {
   "cell_type": "code",
   "execution_count": 2,
   "id": "ee2d3dc1",
   "metadata": {},
   "outputs": [],
   "source": [
    "import os\n",
    "import cv2\n",
    "import numpy as np"
   ]
  },
  {
   "cell_type": "code",
   "execution_count": 4,
   "id": "cbe14d5a",
   "metadata": {},
   "outputs": [
    {
     "name": "stdout",
     "output_type": "stream",
     "text": [
      "Total Classes : 3\n"
     ]
    }
   ],
   "source": [
    "count = 0\n",
    "images = []\n",
    "classNo = []\n",
    "File_List = os.listdir(img_path)\n",
    "print(\"Total Classes :\",len(File_List))\n",
    "Classes=len(File_List)\n",
    "for x in range (0,len(File_List)):\n",
    "    Pic_List = os.listdir(img_path+\"/\"+str(count)) \n",
    "    for y in Pic_List:\n",
    "        curImg = cv2.imread(img_path+\"/\"+str(count)+\"/\"+y)\n",
    "        images.append(curImg)\n",
    "        classNo.append(count) \n",
    "    count += 1\n",
    "images = np.array(images)\n",
    "classNo = np.array(classNo)"
   ]
  },
  {
   "cell_type": "code",
   "execution_count": 5,
   "id": "8dd6b551",
   "metadata": {},
   "outputs": [],
   "source": [
    "from sklearn.model_selection import train_test_split\n",
    "\n",
    "testRatio = 0.2\n",
    "validationRatio = 0.2\n",
    "\n",
    "X_train, X_test, y_train, y_test = train_test_split(images, classNo, test_size=testRatio)\n",
    "X_train, X_validation, y_train, y_validation = train_test_split(X_train, y_train, test_size=validationRatio)"
   ]
  },
  {
   "cell_type": "code",
   "execution_count": 6,
   "id": "bc2798d2",
   "metadata": {},
   "outputs": [],
   "source": [
    "def preprocessing(img):\n",
    "    img = cv2.cvtColor(img,cv2.COLOR_BGR2GRAY)\n",
    "    img = cv2.equalizeHist(img)\n",
    "    img = img/255\n",
    "    return img"
   ]
  },
  {
   "cell_type": "code",
   "execution_count": 7,
   "id": "d1325d9f",
   "metadata": {},
   "outputs": [],
   "source": [
    "X_train=np.array(list(map(preprocessing,X_train)))\n",
    "X_validation=np.array(list(map(preprocessing,X_validation)))\n",
    "X_test=np.array(list(map(preprocessing,X_test)))"
   ]
  },
  {
   "cell_type": "code",
   "execution_count": 8,
   "id": "5044d446",
   "metadata": {},
   "outputs": [],
   "source": [
    "X_train=X_train.reshape(X_train.shape[0],X_train.shape[1],X_train.shape[2],1)\n",
    "X_validation=X_validation.reshape(X_validation.shape[0],X_validation.shape[1],X_validation.shape[2],1)\n",
    "X_test=X_test.reshape(X_test.shape[0],X_test.shape[1],X_test.shape[2],1)"
   ]
  },
  {
   "cell_type": "code",
   "execution_count": 9,
   "id": "9161d1c3",
   "metadata": {},
   "outputs": [],
   "source": [
    "from keras.preprocessing.image import ImageDataGenerator\n",
    "\n",
    "dataGen= ImageDataGenerator(width_shift_range=0.1,\n",
    "                            height_shift_range=0.1,\n",
    "                            shear_range=0.1,  \n",
    "                            rotation_range=10)  \n",
    "dataGen.fit(X_train)"
   ]
  },
  {
   "cell_type": "code",
   "execution_count": 10,
   "id": "dbf6b817",
   "metadata": {},
   "outputs": [],
   "source": [
    "from keras.utils.np_utils import to_categorical\n",
    "\n",
    "y_train = to_categorical(y_train,Classes)\n",
    "y_validation = to_categorical(y_validation,Classes)\n",
    "y_test = to_categorical(y_test,Classes)"
   ]
  },
  {
   "cell_type": "code",
   "execution_count": 11,
   "id": "ada5aa34",
   "metadata": {},
   "outputs": [],
   "source": [
    "from keras.models import Sequential \n",
    "from keras.layers import Dense ,Dropout, Flatten \n",
    "from keras.optimizers import Adam\n",
    "from keras.layers.convolutional import Conv2D, MaxPooling2D\n",
    "\n",
    "image_size = (32,32,3)"
   ]
  },
  {
   "cell_type": "code",
   "execution_count": 12,
   "id": "620b5d7f",
   "metadata": {},
   "outputs": [],
   "source": [
    "def myModel():\n",
    "    no_Of_Filters=60\n",
    "    size_of_Filter=(5,5)\n",
    "    size_of_Filter2=(3,3)\n",
    "    size_of_pool=(2,2)\n",
    "    no_Of_Nodes = 500\n",
    "    model= Sequential()\n",
    "    model.add((Conv2D(no_Of_Filters,size_of_Filter,\n",
    "                      input_shape=(image_size[0],image_size[1],1),\n",
    "                      activation='relu')))\n",
    "    model.add((Conv2D(no_Of_Filters, size_of_Filter, activation='relu')))\n",
    "    model.add(MaxPooling2D(pool_size=size_of_pool))\n",
    " \n",
    "    model.add((Conv2D(no_Of_Filters//2, size_of_Filter2, activation='relu')))\n",
    "    model.add((Conv2D(no_Of_Filters//2, size_of_Filter2, activation='relu')))\n",
    "    model.add(MaxPooling2D(pool_size=size_of_pool))\n",
    "    model.add(Dropout(0.5))\n",
    " \n",
    "    model.add(Flatten())\n",
    "    model.add(Dense(no_Of_Nodes,activation='relu'))\n",
    "    model.add(Dropout(0.5))\n",
    "    model.add(Dense(Classes,activation='softmax'))\n",
    "    \n",
    "    model.compile(Adam(learning_rate=0.001),loss='categorical_crossentropy',metrics=['accuracy'])\n",
    "    return model"
   ]
  },
  {
   "cell_type": "code",
   "execution_count": 13,
   "id": "7457cdbe",
   "metadata": {},
   "outputs": [],
   "source": [
    "model = myModel()"
   ]
  },
  {
   "cell_type": "code",
   "execution_count": 14,
   "id": "6e62584f",
   "metadata": {},
   "outputs": [],
   "source": [
    "import math\n",
    "\n",
    "batch_size_val = 20\n",
    "steps_per_epoch_val = math.floor(len(X_train)/batch_size_val)\n",
    "epochs_val=50"
   ]
  },
  {
   "cell_type": "code",
   "execution_count": 15,
   "id": "0860038e",
   "metadata": {},
   "outputs": [
    {
     "name": "stdout",
     "output_type": "stream",
     "text": [
      "Epoch 1/50\n",
      "8/8 [==============================] - 1s 58ms/step - loss: 1.1224 - accuracy: 0.3490 - val_loss: 1.0954 - val_accuracy: 0.4651\n",
      "Epoch 2/50\n",
      "8/8 [==============================] - 0s 38ms/step - loss: 1.1057 - accuracy: 0.3356 - val_loss: 1.0955 - val_accuracy: 0.3953\n",
      "Epoch 3/50\n",
      "8/8 [==============================] - 0s 38ms/step - loss: 1.1038 - accuracy: 0.3020 - val_loss: 1.0979 - val_accuracy: 0.3721\n",
      "Epoch 4/50\n",
      "8/8 [==============================] - 0s 41ms/step - loss: 1.0956 - accuracy: 0.3624 - val_loss: 1.0906 - val_accuracy: 0.3256\n",
      "Epoch 5/50\n",
      "8/8 [==============================] - 0s 40ms/step - loss: 1.0859 - accuracy: 0.4295 - val_loss: 1.0722 - val_accuracy: 0.4651\n",
      "Epoch 6/50\n",
      "8/8 [==============================] - 0s 41ms/step - loss: 1.0433 - accuracy: 0.4899 - val_loss: 0.9977 - val_accuracy: 0.5116\n",
      "Epoch 7/50\n",
      "8/8 [==============================] - 0s 40ms/step - loss: 0.9225 - accuracy: 0.5772 - val_loss: 0.8405 - val_accuracy: 0.4884\n",
      "Epoch 8/50\n",
      "8/8 [==============================] - 0s 40ms/step - loss: 0.7934 - accuracy: 0.6309 - val_loss: 0.7255 - val_accuracy: 0.6279\n",
      "Epoch 9/50\n",
      "8/8 [==============================] - 0s 41ms/step - loss: 0.6992 - accuracy: 0.7125 - val_loss: 0.7469 - val_accuracy: 0.6279\n",
      "Epoch 10/50\n",
      "8/8 [==============================] - 0s 43ms/step - loss: 0.6664 - accuracy: 0.7181 - val_loss: 0.5925 - val_accuracy: 0.7442\n",
      "Epoch 11/50\n",
      "8/8 [==============================] - 0s 43ms/step - loss: 0.5691 - accuracy: 0.7383 - val_loss: 0.4800 - val_accuracy: 0.7674\n",
      "Epoch 12/50\n",
      "8/8 [==============================] - 0s 41ms/step - loss: 0.5105 - accuracy: 0.8322 - val_loss: 0.3774 - val_accuracy: 0.8837\n",
      "Epoch 13/50\n",
      "8/8 [==============================] - 0s 42ms/step - loss: 0.4765 - accuracy: 0.7812 - val_loss: 0.4693 - val_accuracy: 0.8837\n",
      "Epoch 14/50\n",
      "8/8 [==============================] - 0s 39ms/step - loss: 0.3169 - accuracy: 0.8993 - val_loss: 0.3485 - val_accuracy: 0.8605\n",
      "Epoch 15/50\n",
      "8/8 [==============================] - 0s 41ms/step - loss: 0.4435 - accuracy: 0.8591 - val_loss: 0.3214 - val_accuracy: 0.9070\n",
      "Epoch 16/50\n",
      "8/8 [==============================] - 0s 41ms/step - loss: 0.3262 - accuracy: 0.8859 - val_loss: 0.1724 - val_accuracy: 0.9302\n",
      "Epoch 17/50\n",
      "8/8 [==============================] - 0s 42ms/step - loss: 0.2731 - accuracy: 0.9125 - val_loss: 0.2406 - val_accuracy: 0.8837\n",
      "Epoch 18/50\n",
      "8/8 [==============================] - 0s 39ms/step - loss: 0.2620 - accuracy: 0.8859 - val_loss: 0.1838 - val_accuracy: 0.9302\n",
      "Epoch 19/50\n",
      "8/8 [==============================] - 0s 40ms/step - loss: 0.1570 - accuracy: 0.9530 - val_loss: 0.1277 - val_accuracy: 0.9535\n",
      "Epoch 20/50\n",
      "8/8 [==============================] - 0s 40ms/step - loss: 0.1686 - accuracy: 0.9396 - val_loss: 0.1156 - val_accuracy: 0.9535\n",
      "Epoch 21/50\n",
      "8/8 [==============================] - 0s 39ms/step - loss: 0.1827 - accuracy: 0.9396 - val_loss: 0.0791 - val_accuracy: 0.9535\n",
      "Epoch 22/50\n",
      "8/8 [==============================] - 0s 41ms/step - loss: 0.0865 - accuracy: 0.9799 - val_loss: 0.0911 - val_accuracy: 0.9767\n",
      "Epoch 23/50\n",
      "8/8 [==============================] - 0s 44ms/step - loss: 0.1659 - accuracy: 0.9463 - val_loss: 0.0354 - val_accuracy: 1.0000\n",
      "Epoch 24/50\n",
      "8/8 [==============================] - 0s 39ms/step - loss: 0.0944 - accuracy: 0.9732 - val_loss: 0.0414 - val_accuracy: 1.0000\n",
      "Epoch 25/50\n",
      "8/8 [==============================] - 0s 43ms/step - loss: 0.1294 - accuracy: 0.9438 - val_loss: 0.0279 - val_accuracy: 1.0000\n",
      "Epoch 26/50\n",
      "8/8 [==============================] - 0s 40ms/step - loss: 0.0924 - accuracy: 0.9799 - val_loss: 0.0829 - val_accuracy: 0.9767\n",
      "Epoch 27/50\n",
      "8/8 [==============================] - 0s 38ms/step - loss: 0.1399 - accuracy: 0.9463 - val_loss: 0.0761 - val_accuracy: 0.9535\n",
      "Epoch 28/50\n",
      "8/8 [==============================] - 0s 40ms/step - loss: 0.0687 - accuracy: 0.9732 - val_loss: 0.0120 - val_accuracy: 1.0000\n",
      "Epoch 29/50\n",
      "8/8 [==============================] - 0s 40ms/step - loss: 0.0975 - accuracy: 0.9664 - val_loss: 0.0159 - val_accuracy: 1.0000\n",
      "Epoch 30/50\n",
      "8/8 [==============================] - 0s 38ms/step - loss: 0.0799 - accuracy: 0.9664 - val_loss: 0.0443 - val_accuracy: 0.9767\n",
      "Epoch 31/50\n",
      "8/8 [==============================] - 0s 40ms/step - loss: 0.0840 - accuracy: 0.9664 - val_loss: 0.0098 - val_accuracy: 1.0000\n",
      "Epoch 32/50\n",
      "8/8 [==============================] - 0s 40ms/step - loss: 0.0704 - accuracy: 0.9732 - val_loss: 0.0025 - val_accuracy: 1.0000\n",
      "Epoch 33/50\n",
      "8/8 [==============================] - 0s 38ms/step - loss: 0.0238 - accuracy: 1.0000 - val_loss: 0.0026 - val_accuracy: 1.0000\n",
      "Epoch 34/50\n",
      "8/8 [==============================] - 0s 42ms/step - loss: 0.0612 - accuracy: 0.9732 - val_loss: 0.0898 - val_accuracy: 0.9767\n",
      "Epoch 35/50\n",
      "8/8 [==============================] - 0s 41ms/step - loss: 0.0894 - accuracy: 0.9732 - val_loss: 0.0015 - val_accuracy: 1.0000\n",
      "Epoch 36/50\n",
      "8/8 [==============================] - 0s 39ms/step - loss: 0.1310 - accuracy: 0.9597 - val_loss: 0.0069 - val_accuracy: 1.0000\n",
      "Epoch 37/50\n",
      "8/8 [==============================] - 0s 42ms/step - loss: 0.0877 - accuracy: 0.9732 - val_loss: 0.0550 - val_accuracy: 0.9767\n",
      "Epoch 38/50\n",
      "8/8 [==============================] - 0s 42ms/step - loss: 0.1401 - accuracy: 0.9530 - val_loss: 0.0342 - val_accuracy: 0.9767\n",
      "Epoch 39/50\n",
      "8/8 [==============================] - 0s 39ms/step - loss: 0.1260 - accuracy: 0.9530 - val_loss: 0.0075 - val_accuracy: 1.0000\n",
      "Epoch 40/50\n",
      "8/8 [==============================] - 0s 42ms/step - loss: 0.0560 - accuracy: 0.9866 - val_loss: 0.0102 - val_accuracy: 1.0000\n",
      "Epoch 41/50\n",
      "8/8 [==============================] - 0s 40ms/step - loss: 0.0869 - accuracy: 0.9664 - val_loss: 0.0043 - val_accuracy: 1.0000\n",
      "Epoch 42/50\n",
      "8/8 [==============================] - 0s 39ms/step - loss: 0.0304 - accuracy: 0.9933 - val_loss: 0.0021 - val_accuracy: 1.0000\n",
      "Epoch 43/50\n",
      "8/8 [==============================] - 0s 43ms/step - loss: 0.0402 - accuracy: 0.9866 - val_loss: 6.0056e-04 - val_accuracy: 1.0000\n",
      "Epoch 44/50\n",
      "8/8 [==============================] - 0s 41ms/step - loss: 0.0578 - accuracy: 0.9866 - val_loss: 0.0053 - val_accuracy: 1.0000\n",
      "Epoch 45/50\n",
      "8/8 [==============================] - 0s 42ms/step - loss: 0.0508 - accuracy: 0.9875 - val_loss: 7.8700e-04 - val_accuracy: 1.0000\n",
      "Epoch 46/50\n",
      "8/8 [==============================] - 0s 44ms/step - loss: 0.0278 - accuracy: 0.9875 - val_loss: 6.9961e-04 - val_accuracy: 1.0000\n",
      "Epoch 47/50\n",
      "8/8 [==============================] - 0s 40ms/step - loss: 0.0332 - accuracy: 0.9933 - val_loss: 6.4230e-04 - val_accuracy: 1.0000\n",
      "Epoch 48/50\n",
      "8/8 [==============================] - 0s 41ms/step - loss: 0.0331 - accuracy: 0.9933 - val_loss: 5.9911e-04 - val_accuracy: 1.0000\n",
      "Epoch 49/50\n",
      "8/8 [==============================] - 0s 46ms/step - loss: 0.0341 - accuracy: 0.9875 - val_loss: 0.0011 - val_accuracy: 1.0000\n",
      "Epoch 50/50\n",
      "8/8 [==============================] - 0s 40ms/step - loss: 0.0396 - accuracy: 0.9799 - val_loss: 6.2226e-04 - val_accuracy: 1.0000\n"
     ]
    }
   ],
   "source": [
    "result=model.fit(dataGen.flow(X_train,y_train,batch_size=batch_size_val),\n",
    "                 steps_per_epoch=steps_per_epoch_val,epochs=epochs_val,\n",
    "                 validation_data=(X_validation,y_validation),shuffle=1)"
   ]
  },
  {
   "cell_type": "code",
   "execution_count": 16,
   "id": "1950b4f1",
   "metadata": {},
   "outputs": [
    {
     "name": "stdout",
     "output_type": "stream",
     "text": [
      "Test Score: 0.0003304436104372144\n",
      "Test Accuracy: 1.0\n"
     ]
    }
   ],
   "source": [
    "score = model.evaluate(X_test,y_test,verbose=0)\n",
    "print('Test Score:',score[0])\n",
    "print('Test Accuracy:',score[1])\n",
    "\n",
    "model_save_path = 'C:/Users/KangDongha/Desktop/junior/model_trained_data.h5'\n",
    "model.save(model_save_path)"
   ]
  }
 ],
 "metadata": {
  "kernelspec": {
   "display_name": "Python 3",
   "language": "python",
   "name": "python3"
  },
  "language_info": {
   "codemirror_mode": {
    "name": "ipython",
    "version": 3
   },
   "file_extension": ".py",
   "mimetype": "text/x-python",
   "name": "python",
   "nbconvert_exporter": "python",
   "pygments_lexer": "ipython3",
   "version": "3.8.10"
  }
 },
 "nbformat": 4,
 "nbformat_minor": 5
}
